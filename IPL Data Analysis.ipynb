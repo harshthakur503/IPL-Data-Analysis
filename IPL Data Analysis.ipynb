{
 "cells": [
  {
   "cell_type": "markdown",
   "id": "113acbc0",
   "metadata": {},
   "source": [
    "# <center>INDIAN PREMIER LEAGUE ANALYSIS</center>\n"
   ]
  },
  {
   "cell_type": "markdown",
   "id": "29ae55e0",
   "metadata": {},
   "source": [
    "![Cover](https://ik.imagekit.io/oyprice/bytes/wp-content/uploads/2022/03/ipl-2022-kick-off-on-2nd-aprli-2022-in-chennai-87-800x500.jpg)"
   ]
  },
  {
   "cell_type": "markdown",
   "id": "61024fc9",
   "metadata": {},
   "source": [
    " "
   ]
  },
  {
   "cell_type": "markdown",
   "id": "f457263c",
   "metadata": {},
   "source": [
    "## What is Indian Premier League ? "
   ]
  },
  {
   "cell_type": "markdown",
   "id": "c724ec3c",
   "metadata": {},
   "source": [
    "The Indian Premier League, or just simply called \"IPL\" is a professional Twenty20 domestic league championship hosted in India and is administrated by the BCCI. It was started after an altercation between the BCCI and the Indian Cricket League. IPL was first launched in 2008 and since then, it has been taking place every year. \n",
    "\n",
    "IPL is considered the richest cricket tournament in the world as it generates the most revenue and also pays very high to the participating players. \n",
    "\n",
    "This project analyses the data of IPL from 2008 to 2020 and shares various valuable insights on players and much more."
   ]
  },
  {
   "cell_type": "markdown",
   "id": "b1262656",
   "metadata": {},
   "source": [
    " "
   ]
  },
  {
   "cell_type": "markdown",
   "id": "c7ae178d",
   "metadata": {},
   "source": [
    "## Libraries used in the dataset \n",
    "* numpy (used to work with arrays)\n",
    "* pandas (used to analyze the data and mark dataframes)\n",
    "* matplotlib (used to visualize data)\n",
    "* seaborn (used to add colours and effects into matplotlib visualization)"
   ]
  },
  {
   "cell_type": "markdown",
   "id": "e3116b46",
   "metadata": {},
   "source": [
    "#### Importing and downloading the dataset"
   ]
  },
  {
   "cell_type": "code",
   "execution_count": 329,
   "id": "9f032862",
   "metadata": {},
   "outputs": [],
   "source": [
    "import numpy as np\n",
    "import pandas as pd\n",
    "import matplotlib.pyplot as plt\n",
    "from matplotlib import cm\n",
    "import seaborn as sns\n",
    "import math\n",
    "import warnings\n",
    "import warnings\n",
    "warnings.filterwarnings(\"ignore\")"
   ]
  },
  {
   "cell_type": "code",
   "execution_count": 2,
   "id": "e15b1cef",
   "metadata": {},
   "outputs": [],
   "source": [
    "general_data = pd.read_csv('/Users/harshthakur/Documents/IPL Dataset/IPL Matches 2008-2020.csv')\n",
    "stats = pd.read_csv('/Users/harshthakur/Documents/IPL Dataset/IPL Ball-by-Ball 2008-2020.csv')\n"
   ]
  },
  {
   "cell_type": "markdown",
   "id": "9de8c50f",
   "metadata": {},
   "source": [
    "#### Finding the number of null/empty columns for both the datasets"
   ]
  },
  {
   "cell_type": "code",
   "execution_count": null,
   "id": "4d8d11f6",
   "metadata": {},
   "outputs": [],
   "source": [
    "general_data.isnull().sum()"
   ]
  },
  {
   "cell_type": "code",
   "execution_count": null,
   "id": "ee978643",
   "metadata": {},
   "outputs": [],
   "source": [
    "stats.isnull().sum()"
   ]
  },
  {
   "cell_type": "markdown",
   "id": "8086e3fc",
   "metadata": {},
   "source": [
    "#### Finding the number of rows and columns in both the datasets "
   ]
  },
  {
   "cell_type": "code",
   "execution_count": null,
   "id": "c9366374",
   "metadata": {},
   "outputs": [],
   "source": [
    "general_data.shape\n"
   ]
  },
  {
   "cell_type": "code",
   "execution_count": null,
   "id": "1454798d",
   "metadata": {},
   "outputs": [],
   "source": [
    "stats.shape"
   ]
  },
  {
   "cell_type": "markdown",
   "id": "a0be7e1c",
   "metadata": {},
   "source": [
    "The isnull( ) function has helped us determine that the number of rows and columns in the stats file is much more than the general_data file. The ' shape' function shows us that the number of rows and columns in stats file is much bigger than the general_data file. "
   ]
  },
  {
   "cell_type": "markdown",
   "id": "0b8d71eb",
   "metadata": {},
   "source": [
    "#### Number of matches played, number of venues used, and number of teams which have participated"
   ]
  },
  {
   "cell_type": "code",
   "execution_count": 8,
   "id": "23a4be2d",
   "metadata": {},
   "outputs": [
    {
     "data": {
      "text/plain": [
       "Index(['Matches', 'city', 'date', 'player_of_match', 'venue', 'neutral_venue',\n",
       "       'team1', 'team2', 'toss_winner', 'toss_decision', 'winner', 'result',\n",
       "       'result_margin', 'eliminator', 'method', 'umpire1', 'umpire2'],\n",
       "      dtype='object')"
      ]
     },
     "execution_count": 8,
     "metadata": {},
     "output_type": "execute_result"
    }
   ],
   "source": [
    "general_data.columns"
   ]
  },
  {
   "cell_type": "code",
   "execution_count": 9,
   "id": "83db5144",
   "metadata": {},
   "outputs": [
    {
     "name": "stdout",
     "output_type": "stream",
     "text": [
      "Total number of matches played: 816\n",
      "\n",
      "List of Venues used : ['Bangalore' 'Chandigarh' 'Delhi' 'Mumbai' 'Kolkata' 'Jaipur' 'Hyderabad'\n",
      " 'Chennai' 'Cape Town' 'Port Elizabeth' 'Durban' 'Centurion' 'East London'\n",
      " 'Johannesburg' 'Kimberley' 'Bloemfontein' 'Ahmedabad' 'Cuttack' 'Nagpur'\n",
      " 'Dharamsala' 'Kochi' 'Indore' 'Visakhapatnam' 'Pune' 'Raipur' 'Ranchi'\n",
      " 'Abu Dhabi' nan 'Rajkot' 'Kanpur' 'Bengaluru' 'Dubai' 'Sharjah']\n",
      "\n",
      "List of participating teams: ['Royal Challengers Bangalore' 'Kings XI Punjab' 'Delhi Daredevils'\n",
      " 'Mumbai Indians' 'Kolkata Knight Riders' 'Rajasthan Royals'\n",
      " 'Deccan Chargers' 'Chennai Super Kings' 'Kochi Tuskers Kerala'\n",
      " 'Pune Warriors' 'Sunrisers Hyderabad' 'Gujarat Lions'\n",
      " 'Rising Pune Supergiants' 'Rising Pune Supergiant' 'Delhi Capitals']\n"
     ]
    }
   ],
   "source": [
    "print('Total number of matches played: {}'.format(general_data.shape[0]))\n",
    "print('\\nList of Venues used : {}'.format(general_data['city'].unique()))\n",
    "print('\\nList of participating teams: {}'.format(general_data['team1'].unique()))"
   ]
  },
  {
   "cell_type": "markdown",
   "id": "9311abb7",
   "metadata": {},
   "source": [
    "#### Adding a new column 'Season' based on the date that the match was played "
   ]
  },
  {
   "cell_type": "code",
   "execution_count": 330,
   "id": "1ffcf5c2",
   "metadata": {},
   "outputs": [
    {
     "data": {
      "text/html": [
       "<div>\n",
       "<style scoped>\n",
       "    .dataframe tbody tr th:only-of-type {\n",
       "        vertical-align: middle;\n",
       "    }\n",
       "\n",
       "    .dataframe tbody tr th {\n",
       "        vertical-align: top;\n",
       "    }\n",
       "\n",
       "    .dataframe thead th {\n",
       "        text-align: right;\n",
       "    }\n",
       "</style>\n",
       "<table border=\"1\" class=\"dataframe\">\n",
       "  <thead>\n",
       "    <tr style=\"text-align: right;\">\n",
       "      <th></th>\n",
       "      <th>Matches</th>\n",
       "      <th>city</th>\n",
       "      <th>date</th>\n",
       "      <th>Man of the Match</th>\n",
       "      <th>venue</th>\n",
       "      <th>neutral_venue</th>\n",
       "      <th>team1</th>\n",
       "      <th>team2</th>\n",
       "      <th>toss_winner</th>\n",
       "      <th>toss_decision</th>\n",
       "      <th>winner</th>\n",
       "      <th>result</th>\n",
       "      <th>result_margin</th>\n",
       "      <th>eliminator</th>\n",
       "      <th>method</th>\n",
       "      <th>umpire1</th>\n",
       "      <th>umpire2</th>\n",
       "      <th>Season</th>\n",
       "    </tr>\n",
       "  </thead>\n",
       "  <tbody>\n",
       "    <tr>\n",
       "      <th>0</th>\n",
       "      <td>335982</td>\n",
       "      <td>Bangalore</td>\n",
       "      <td>18-04-2008</td>\n",
       "      <td>BB McCullum</td>\n",
       "      <td>M Chinnaswamy Stadium</td>\n",
       "      <td>0</td>\n",
       "      <td>Royal Challengers Bangalore</td>\n",
       "      <td>Kolkata Knight Riders</td>\n",
       "      <td>Royal Challengers Bangalore</td>\n",
       "      <td>field</td>\n",
       "      <td>Kolkata Knight Riders</td>\n",
       "      <td>runs</td>\n",
       "      <td>140.0</td>\n",
       "      <td>N</td>\n",
       "      <td>NaN</td>\n",
       "      <td>Asad Rauf</td>\n",
       "      <td>RE Koertzen</td>\n",
       "      <td>2008</td>\n",
       "    </tr>\n",
       "    <tr>\n",
       "      <th>1</th>\n",
       "      <td>335983</td>\n",
       "      <td>Chandigarh</td>\n",
       "      <td>19-04-2008</td>\n",
       "      <td>MEK Hussey</td>\n",
       "      <td>Punjab Cricket Association Stadium, Mohali</td>\n",
       "      <td>0</td>\n",
       "      <td>Kings XI Punjab</td>\n",
       "      <td>Chennai Super Kings</td>\n",
       "      <td>Chennai Super Kings</td>\n",
       "      <td>bat</td>\n",
       "      <td>Chennai Super Kings</td>\n",
       "      <td>runs</td>\n",
       "      <td>33.0</td>\n",
       "      <td>N</td>\n",
       "      <td>NaN</td>\n",
       "      <td>MR Benson</td>\n",
       "      <td>SL Shastri</td>\n",
       "      <td>2008</td>\n",
       "    </tr>\n",
       "    <tr>\n",
       "      <th>2</th>\n",
       "      <td>335984</td>\n",
       "      <td>Delhi</td>\n",
       "      <td>19-04-2008</td>\n",
       "      <td>MF Maharoof</td>\n",
       "      <td>Feroz Shah Kotla</td>\n",
       "      <td>0</td>\n",
       "      <td>Delhi Daredevils</td>\n",
       "      <td>Rajasthan Royals</td>\n",
       "      <td>Rajasthan Royals</td>\n",
       "      <td>bat</td>\n",
       "      <td>Delhi Daredevils</td>\n",
       "      <td>wickets</td>\n",
       "      <td>9.0</td>\n",
       "      <td>N</td>\n",
       "      <td>NaN</td>\n",
       "      <td>Aleem Dar</td>\n",
       "      <td>GA Pratapkumar</td>\n",
       "      <td>2008</td>\n",
       "    </tr>\n",
       "    <tr>\n",
       "      <th>3</th>\n",
       "      <td>335985</td>\n",
       "      <td>Mumbai</td>\n",
       "      <td>20-04-2008</td>\n",
       "      <td>MV Boucher</td>\n",
       "      <td>Wankhede Stadium</td>\n",
       "      <td>0</td>\n",
       "      <td>Mumbai Indians</td>\n",
       "      <td>Royal Challengers Bangalore</td>\n",
       "      <td>Mumbai Indians</td>\n",
       "      <td>bat</td>\n",
       "      <td>Royal Challengers Bangalore</td>\n",
       "      <td>wickets</td>\n",
       "      <td>5.0</td>\n",
       "      <td>N</td>\n",
       "      <td>NaN</td>\n",
       "      <td>SJ Davis</td>\n",
       "      <td>DJ Harper</td>\n",
       "      <td>2008</td>\n",
       "    </tr>\n",
       "    <tr>\n",
       "      <th>4</th>\n",
       "      <td>335986</td>\n",
       "      <td>Kolkata</td>\n",
       "      <td>20-04-2008</td>\n",
       "      <td>DJ Hussey</td>\n",
       "      <td>Eden Gardens</td>\n",
       "      <td>0</td>\n",
       "      <td>Kolkata Knight Riders</td>\n",
       "      <td>Deccan Chargers</td>\n",
       "      <td>Deccan Chargers</td>\n",
       "      <td>bat</td>\n",
       "      <td>Kolkata Knight Riders</td>\n",
       "      <td>wickets</td>\n",
       "      <td>5.0</td>\n",
       "      <td>N</td>\n",
       "      <td>NaN</td>\n",
       "      <td>BF Bowden</td>\n",
       "      <td>K Hariharan</td>\n",
       "      <td>2008</td>\n",
       "    </tr>\n",
       "  </tbody>\n",
       "</table>\n",
       "</div>"
      ],
      "text/plain": [
       "   Matches        city        date Man of the Match  \\\n",
       "0   335982   Bangalore  18-04-2008      BB McCullum   \n",
       "1   335983  Chandigarh  19-04-2008       MEK Hussey   \n",
       "2   335984       Delhi  19-04-2008      MF Maharoof   \n",
       "3   335985      Mumbai  20-04-2008       MV Boucher   \n",
       "4   335986     Kolkata  20-04-2008        DJ Hussey   \n",
       "\n",
       "                                        venue  neutral_venue  \\\n",
       "0                       M Chinnaswamy Stadium              0   \n",
       "1  Punjab Cricket Association Stadium, Mohali              0   \n",
       "2                            Feroz Shah Kotla              0   \n",
       "3                            Wankhede Stadium              0   \n",
       "4                                Eden Gardens              0   \n",
       "\n",
       "                         team1                        team2  \\\n",
       "0  Royal Challengers Bangalore        Kolkata Knight Riders   \n",
       "1              Kings XI Punjab          Chennai Super Kings   \n",
       "2             Delhi Daredevils             Rajasthan Royals   \n",
       "3               Mumbai Indians  Royal Challengers Bangalore   \n",
       "4        Kolkata Knight Riders              Deccan Chargers   \n",
       "\n",
       "                   toss_winner toss_decision                       winner  \\\n",
       "0  Royal Challengers Bangalore         field        Kolkata Knight Riders   \n",
       "1          Chennai Super Kings           bat          Chennai Super Kings   \n",
       "2             Rajasthan Royals           bat             Delhi Daredevils   \n",
       "3               Mumbai Indians           bat  Royal Challengers Bangalore   \n",
       "4              Deccan Chargers           bat        Kolkata Knight Riders   \n",
       "\n",
       "    result  result_margin eliminator method    umpire1         umpire2  Season  \n",
       "0     runs          140.0          N    NaN  Asad Rauf     RE Koertzen    2008  \n",
       "1     runs           33.0          N    NaN  MR Benson      SL Shastri    2008  \n",
       "2  wickets            9.0          N    NaN  Aleem Dar  GA Pratapkumar    2008  \n",
       "3  wickets            5.0          N    NaN   SJ Davis       DJ Harper    2008  \n",
       "4  wickets            5.0          N    NaN  BF Bowden     K Hariharan    2008  "
      ]
     },
     "execution_count": 330,
     "metadata": {},
     "output_type": "execute_result"
    }
   ],
   "source": [
    "general_data['Season'] = pd.DatetimeIndex(general_data['date']).year\n",
    "general_data.head()\n"
   ]
  },
  {
   "cell_type": "code",
   "execution_count": 323,
   "id": "d2fef9bf",
   "metadata": {},
   "outputs": [],
   "source": [
    "general_data = general_data.rename(columns= {'id' : 'Matches'}) # Renaming the column 'id' to 'Matches' "
   ]
  },
  {
   "cell_type": "markdown",
   "id": "da82cab1",
   "metadata": {},
   "source": [
    "#### Number of matches each season "
   ]
  },
  {
   "cell_type": "code",
   "execution_count": 12,
   "id": "50d8837a",
   "metadata": {},
   "outputs": [
    {
     "data": {
      "text/html": [
       "<div>\n",
       "<style scoped>\n",
       "    .dataframe tbody tr th:only-of-type {\n",
       "        vertical-align: middle;\n",
       "    }\n",
       "\n",
       "    .dataframe tbody tr th {\n",
       "        vertical-align: top;\n",
       "    }\n",
       "\n",
       "    .dataframe thead th {\n",
       "        text-align: right;\n",
       "    }\n",
       "</style>\n",
       "<table border=\"1\" class=\"dataframe\">\n",
       "  <thead>\n",
       "    <tr style=\"text-align: right;\">\n",
       "      <th></th>\n",
       "      <th>Season</th>\n",
       "      <th>Matches</th>\n",
       "    </tr>\n",
       "  </thead>\n",
       "  <tbody>\n",
       "    <tr>\n",
       "      <th>0</th>\n",
       "      <td>2008</td>\n",
       "      <td>58</td>\n",
       "    </tr>\n",
       "    <tr>\n",
       "      <th>1</th>\n",
       "      <td>2009</td>\n",
       "      <td>57</td>\n",
       "    </tr>\n",
       "    <tr>\n",
       "      <th>2</th>\n",
       "      <td>2010</td>\n",
       "      <td>60</td>\n",
       "    </tr>\n",
       "    <tr>\n",
       "      <th>3</th>\n",
       "      <td>2011</td>\n",
       "      <td>73</td>\n",
       "    </tr>\n",
       "    <tr>\n",
       "      <th>4</th>\n",
       "      <td>2012</td>\n",
       "      <td>74</td>\n",
       "    </tr>\n",
       "    <tr>\n",
       "      <th>5</th>\n",
       "      <td>2013</td>\n",
       "      <td>76</td>\n",
       "    </tr>\n",
       "    <tr>\n",
       "      <th>6</th>\n",
       "      <td>2014</td>\n",
       "      <td>60</td>\n",
       "    </tr>\n",
       "    <tr>\n",
       "      <th>7</th>\n",
       "      <td>2015</td>\n",
       "      <td>59</td>\n",
       "    </tr>\n",
       "    <tr>\n",
       "      <th>8</th>\n",
       "      <td>2016</td>\n",
       "      <td>60</td>\n",
       "    </tr>\n",
       "    <tr>\n",
       "      <th>9</th>\n",
       "      <td>2017</td>\n",
       "      <td>59</td>\n",
       "    </tr>\n",
       "    <tr>\n",
       "      <th>10</th>\n",
       "      <td>2018</td>\n",
       "      <td>60</td>\n",
       "    </tr>\n",
       "    <tr>\n",
       "      <th>11</th>\n",
       "      <td>2019</td>\n",
       "      <td>60</td>\n",
       "    </tr>\n",
       "    <tr>\n",
       "      <th>12</th>\n",
       "      <td>2020</td>\n",
       "      <td>60</td>\n",
       "    </tr>\n",
       "  </tbody>\n",
       "</table>\n",
       "</div>"
      ],
      "text/plain": [
       "    Season  Matches\n",
       "0     2008       58\n",
       "1     2009       57\n",
       "2     2010       60\n",
       "3     2011       73\n",
       "4     2012       74\n",
       "5     2013       76\n",
       "6     2014       60\n",
       "7     2015       59\n",
       "8     2016       60\n",
       "9     2017       59\n",
       "10    2018       60\n",
       "11    2019       60\n",
       "12    2020       60"
      ]
     },
     "execution_count": 12,
     "metadata": {},
     "output_type": "execute_result"
    }
   ],
   "source": [
    "matches_per_season = general_data.groupby('Season').Matches.count().reset_index()\n",
    "matches_per_season"
   ]
  },
  {
   "cell_type": "code",
   "execution_count": 317,
   "id": "be7b8b40",
   "metadata": {},
   "outputs": [
    {
     "data": {
      "image/png": "[encoded data removed]",
      "text/plain": [
       "<Figure size 720x360 with 1 Axes>"
      ]
     },
     "metadata": {},
     "output_type": "display_data"
    }
   ],
   "source": [
    "co = plt.axes()\n",
    "x = sns.countplot(general_data.Season, palette = 'magma');\n",
    "sns.set(style = 'darkgrid', rc={'figure.figsize':(15,5)})\n",
    "x.bar_label(x.containers[0])\n",
    "plt.xticks(fontsize= 10, rotation = 45);\n",
    "plt.xlabel('IPL Season', fontweight= 'bold')\n",
    "plt.ylabel('Matches per season',fontweight= 'bold');"
   ]
  },
  {
   "cell_type": "code",
   "execution_count": 14,
   "id": "d8a3b307",
   "metadata": {},
   "outputs": [],
   "source": [
    "general_data = general_data.rename(columns = {'player_of_match' : 'Man of the Match'}) #Renaming the player of the match column"
   ]
  },
  {
   "cell_type": "code",
   "execution_count": null,
   "id": "1efdc5b7",
   "metadata": {},
   "outputs": [],
   "source": [
    "general_data"
   ]
  },
  {
   "cell_type": "code",
   "execution_count": 15,
   "id": "8f74b880",
   "metadata": {},
   "outputs": [],
   "source": [
    "stats = stats.rename(columns = {'id': 'Matches'})"
   ]
  },
  {
   "cell_type": "markdown",
   "id": "3bc3b042",
   "metadata": {},
   "source": [
    "#### Total runs scored in each season"
   ]
  },
  {
   "cell_type": "code",
   "execution_count": 16,
   "id": "91328e15",
   "metadata": {},
   "outputs": [],
   "source": [
    "season_data = general_data[['Matches', 'Season']].merge(stats, left_on = 'Matches', right_on = 'Matches', how = 'left')"
   ]
  },
  {
   "cell_type": "code",
   "execution_count": 17,
   "id": "8e091b87",
   "metadata": {},
   "outputs": [
    {
     "data": {
      "text/html": [
       "<div>\n",
       "<style scoped>\n",
       "    .dataframe tbody tr th:only-of-type {\n",
       "        vertical-align: middle;\n",
       "    }\n",
       "\n",
       "    .dataframe tbody tr th {\n",
       "        vertical-align: top;\n",
       "    }\n",
       "\n",
       "    .dataframe thead th {\n",
       "        text-align: right;\n",
       "    }\n",
       "</style>\n",
       "<table border=\"1\" class=\"dataframe\">\n",
       "  <thead>\n",
       "    <tr style=\"text-align: right;\">\n",
       "      <th></th>\n",
       "      <th>Matches</th>\n",
       "      <th>Season</th>\n",
       "      <th>inning</th>\n",
       "      <th>over</th>\n",
       "      <th>ball</th>\n",
       "      <th>batsman</th>\n",
       "      <th>non_striker</th>\n",
       "      <th>bowler</th>\n",
       "      <th>batsman_runs</th>\n",
       "      <th>extra_runs</th>\n",
       "      <th>total_runs</th>\n",
       "      <th>non_boundary</th>\n",
       "      <th>is_wicket</th>\n",
       "      <th>dismissal_kind</th>\n",
       "      <th>player_dismissed</th>\n",
       "      <th>fielder</th>\n",
       "      <th>extras_type</th>\n",
       "      <th>batting_team</th>\n",
       "      <th>bowling_team</th>\n",
       "    </tr>\n",
       "  </thead>\n",
       "  <tbody>\n",
       "    <tr>\n",
       "      <th>0</th>\n",
       "      <td>335982</td>\n",
       "      <td>2008</td>\n",
       "      <td>1</td>\n",
       "      <td>6</td>\n",
       "      <td>5</td>\n",
       "      <td>RT Ponting</td>\n",
       "      <td>BB McCullum</td>\n",
       "      <td>AA Noffke</td>\n",
       "      <td>1</td>\n",
       "      <td>0</td>\n",
       "      <td>1</td>\n",
       "      <td>0</td>\n",
       "      <td>0</td>\n",
       "      <td>NaN</td>\n",
       "      <td>NaN</td>\n",
       "      <td>NaN</td>\n",
       "      <td>NaN</td>\n",
       "      <td>Kolkata Knight Riders</td>\n",
       "      <td>Royal Challengers Bangalore</td>\n",
       "    </tr>\n",
       "    <tr>\n",
       "      <th>1</th>\n",
       "      <td>335982</td>\n",
       "      <td>2008</td>\n",
       "      <td>1</td>\n",
       "      <td>6</td>\n",
       "      <td>6</td>\n",
       "      <td>BB McCullum</td>\n",
       "      <td>RT Ponting</td>\n",
       "      <td>AA Noffke</td>\n",
       "      <td>1</td>\n",
       "      <td>0</td>\n",
       "      <td>1</td>\n",
       "      <td>0</td>\n",
       "      <td>0</td>\n",
       "      <td>NaN</td>\n",
       "      <td>NaN</td>\n",
       "      <td>NaN</td>\n",
       "      <td>NaN</td>\n",
       "      <td>Kolkata Knight Riders</td>\n",
       "      <td>Royal Challengers Bangalore</td>\n",
       "    </tr>\n",
       "    <tr>\n",
       "      <th>2</th>\n",
       "      <td>335982</td>\n",
       "      <td>2008</td>\n",
       "      <td>1</td>\n",
       "      <td>7</td>\n",
       "      <td>1</td>\n",
       "      <td>BB McCullum</td>\n",
       "      <td>RT Ponting</td>\n",
       "      <td>Z Khan</td>\n",
       "      <td>0</td>\n",
       "      <td>0</td>\n",
       "      <td>0</td>\n",
       "      <td>0</td>\n",
       "      <td>0</td>\n",
       "      <td>NaN</td>\n",
       "      <td>NaN</td>\n",
       "      <td>NaN</td>\n",
       "      <td>NaN</td>\n",
       "      <td>Kolkata Knight Riders</td>\n",
       "      <td>Royal Challengers Bangalore</td>\n",
       "    </tr>\n",
       "    <tr>\n",
       "      <th>3</th>\n",
       "      <td>335982</td>\n",
       "      <td>2008</td>\n",
       "      <td>1</td>\n",
       "      <td>7</td>\n",
       "      <td>2</td>\n",
       "      <td>BB McCullum</td>\n",
       "      <td>RT Ponting</td>\n",
       "      <td>Z Khan</td>\n",
       "      <td>1</td>\n",
       "      <td>0</td>\n",
       "      <td>1</td>\n",
       "      <td>0</td>\n",
       "      <td>0</td>\n",
       "      <td>NaN</td>\n",
       "      <td>NaN</td>\n",
       "      <td>NaN</td>\n",
       "      <td>NaN</td>\n",
       "      <td>Kolkata Knight Riders</td>\n",
       "      <td>Royal Challengers Bangalore</td>\n",
       "    </tr>\n",
       "    <tr>\n",
       "      <th>4</th>\n",
       "      <td>335982</td>\n",
       "      <td>2008</td>\n",
       "      <td>1</td>\n",
       "      <td>7</td>\n",
       "      <td>3</td>\n",
       "      <td>RT Ponting</td>\n",
       "      <td>BB McCullum</td>\n",
       "      <td>Z Khan</td>\n",
       "      <td>1</td>\n",
       "      <td>0</td>\n",
       "      <td>1</td>\n",
       "      <td>0</td>\n",
       "      <td>0</td>\n",
       "      <td>NaN</td>\n",
       "      <td>NaN</td>\n",
       "      <td>NaN</td>\n",
       "      <td>NaN</td>\n",
       "      <td>Kolkata Knight Riders</td>\n",
       "      <td>Royal Challengers Bangalore</td>\n",
       "    </tr>\n",
       "  </tbody>\n",
       "</table>\n",
       "</div>"
      ],
      "text/plain": [
       "   Matches  Season  inning  over  ball      batsman  non_striker     bowler  \\\n",
       "0   335982    2008       1     6     5   RT Ponting  BB McCullum  AA Noffke   \n",
       "1   335982    2008       1     6     6  BB McCullum   RT Ponting  AA Noffke   \n",
       "2   335982    2008       1     7     1  BB McCullum   RT Ponting     Z Khan   \n",
       "3   335982    2008       1     7     2  BB McCullum   RT Ponting     Z Khan   \n",
       "4   335982    2008       1     7     3   RT Ponting  BB McCullum     Z Khan   \n",
       "\n",
       "   batsman_runs  extra_runs  total_runs  non_boundary  is_wicket  \\\n",
       "0             1           0           1             0          0   \n",
       "1             1           0           1             0          0   \n",
       "2             0           0           0             0          0   \n",
       "3             1           0           1             0          0   \n",
       "4             1           0           1             0          0   \n",
       "\n",
       "  dismissal_kind player_dismissed fielder extras_type           batting_team  \\\n",
       "0            NaN              NaN     NaN         NaN  Kolkata Knight Riders   \n",
       "1            NaN              NaN     NaN         NaN  Kolkata Knight Riders   \n",
       "2            NaN              NaN     NaN         NaN  Kolkata Knight Riders   \n",
       "3            NaN              NaN     NaN         NaN  Kolkata Knight Riders   \n",
       "4            NaN              NaN     NaN         NaN  Kolkata Knight Riders   \n",
       "\n",
       "                  bowling_team  \n",
       "0  Royal Challengers Bangalore  \n",
       "1  Royal Challengers Bangalore  \n",
       "2  Royal Challengers Bangalore  \n",
       "3  Royal Challengers Bangalore  \n",
       "4  Royal Challengers Bangalore  "
      ]
     },
     "execution_count": 17,
     "metadata": {},
     "output_type": "execute_result"
    }
   ],
   "source": [
    "season_data.drop('Matches', axis= 1)\n",
    "season_data.head()"
   ]
  },
  {
   "cell_type": "code",
   "execution_count": 187,
   "id": "ae841d6b",
   "metadata": {},
   "outputs": [
    {
     "data": {
      "text/html": [
       "<div>\n",
       "<style scoped>\n",
       "    .dataframe tbody tr th:only-of-type {\n",
       "        vertical-align: middle;\n",
       "    }\n",
       "\n",
       "    .dataframe tbody tr th {\n",
       "        vertical-align: top;\n",
       "    }\n",
       "\n",
       "    .dataframe thead th {\n",
       "        text-align: right;\n",
       "    }\n",
       "</style>\n",
       "<table border=\"1\" class=\"dataframe\">\n",
       "  <thead>\n",
       "    <tr style=\"text-align: right;\">\n",
       "      <th></th>\n",
       "      <th>Season</th>\n",
       "      <th>total_runs</th>\n",
       "    </tr>\n",
       "  </thead>\n",
       "  <tbody>\n",
       "    <tr>\n",
       "      <th>0</th>\n",
       "      <td>2008</td>\n",
       "      <td>17937</td>\n",
       "    </tr>\n",
       "    <tr>\n",
       "      <th>1</th>\n",
       "      <td>2009</td>\n",
       "      <td>16320</td>\n",
       "    </tr>\n",
       "    <tr>\n",
       "      <th>2</th>\n",
       "      <td>2010</td>\n",
       "      <td>18864</td>\n",
       "    </tr>\n",
       "    <tr>\n",
       "      <th>3</th>\n",
       "      <td>2011</td>\n",
       "      <td>21154</td>\n",
       "    </tr>\n",
       "    <tr>\n",
       "      <th>4</th>\n",
       "      <td>2012</td>\n",
       "      <td>22453</td>\n",
       "    </tr>\n",
       "    <tr>\n",
       "      <th>5</th>\n",
       "      <td>2013</td>\n",
       "      <td>22541</td>\n",
       "    </tr>\n",
       "    <tr>\n",
       "      <th>6</th>\n",
       "      <td>2014</td>\n",
       "      <td>18909</td>\n",
       "    </tr>\n",
       "    <tr>\n",
       "      <th>7</th>\n",
       "      <td>2015</td>\n",
       "      <td>18332</td>\n",
       "    </tr>\n",
       "    <tr>\n",
       "      <th>8</th>\n",
       "      <td>2016</td>\n",
       "      <td>18862</td>\n",
       "    </tr>\n",
       "    <tr>\n",
       "      <th>9</th>\n",
       "      <td>2017</td>\n",
       "      <td>18769</td>\n",
       "    </tr>\n",
       "    <tr>\n",
       "      <th>10</th>\n",
       "      <td>2018</td>\n",
       "      <td>19901</td>\n",
       "    </tr>\n",
       "    <tr>\n",
       "      <th>11</th>\n",
       "      <td>2019</td>\n",
       "      <td>19400</td>\n",
       "    </tr>\n",
       "    <tr>\n",
       "      <th>12</th>\n",
       "      <td>2020</td>\n",
       "      <td>19352</td>\n",
       "    </tr>\n",
       "  </tbody>\n",
       "</table>\n",
       "</div>"
      ],
      "text/plain": [
       "    Season  total_runs\n",
       "0     2008       17937\n",
       "1     2009       16320\n",
       "2     2010       18864\n",
       "3     2011       21154\n",
       "4     2012       22453\n",
       "5     2013       22541\n",
       "6     2014       18909\n",
       "7     2015       18332\n",
       "8     2016       18862\n",
       "9     2017       18769\n",
       "10    2018       19901\n",
       "11    2019       19400\n",
       "12    2020       19352"
      ]
     },
     "execution_count": 187,
     "metadata": {},
     "output_type": "execute_result"
    },
    {
     "data": {
      "image/png": "[encoded data removed]",
      "text/plain": [
       "<Figure size 720x432 with 1 Axes>"
      ]
     },
     "metadata": {},
     "output_type": "display_data"
    }
   ],
   "source": [
    "season_runs = season_data.groupby(['Season'])['total_runs'].sum().reset_index()\n",
    "sns.lineplot(data = season_runs, x= 'Season', y= 'total_runs')\n",
    "plt.ylabel('Runs per Season', fontweight=\"bold\")\n",
    "plt.xlabel('Season', fontweight=\"bold\")\n",
    "plt.title('Total runs in each season',fontsize=12,fontweight=\"bold\");\n",
    "season_runs\n"
   ]
  },
  {
   "cell_type": "markdown",
   "id": "b72c888b",
   "metadata": {},
   "source": [
    "#### Average runs scored per match in each season"
   ]
  },
  {
   "cell_type": "code",
   "execution_count": 19,
   "id": "21b960f6",
   "metadata": {},
   "outputs": [
    {
     "data": {
      "text/html": [
       "<div>\n",
       "<style scoped>\n",
       "    .dataframe tbody tr th:only-of-type {\n",
       "        vertical-align: middle;\n",
       "    }\n",
       "\n",
       "    .dataframe tbody tr th {\n",
       "        vertical-align: top;\n",
       "    }\n",
       "\n",
       "    .dataframe thead th {\n",
       "        text-align: right;\n",
       "    }\n",
       "</style>\n",
       "<table border=\"1\" class=\"dataframe\">\n",
       "  <thead>\n",
       "    <tr style=\"text-align: right;\">\n",
       "      <th></th>\n",
       "      <th>total_runs</th>\n",
       "      <th>Season</th>\n",
       "      <th>Matches</th>\n",
       "      <th>Average runs per match</th>\n",
       "    </tr>\n",
       "  </thead>\n",
       "  <tbody>\n",
       "    <tr>\n",
       "      <th>0</th>\n",
       "      <td>17937</td>\n",
       "      <td>2008</td>\n",
       "      <td>58</td>\n",
       "      <td>309.258621</td>\n",
       "    </tr>\n",
       "    <tr>\n",
       "      <th>1</th>\n",
       "      <td>16320</td>\n",
       "      <td>2009</td>\n",
       "      <td>57</td>\n",
       "      <td>286.315789</td>\n",
       "    </tr>\n",
       "    <tr>\n",
       "      <th>2</th>\n",
       "      <td>18864</td>\n",
       "      <td>2010</td>\n",
       "      <td>60</td>\n",
       "      <td>314.400000</td>\n",
       "    </tr>\n",
       "    <tr>\n",
       "      <th>3</th>\n",
       "      <td>21154</td>\n",
       "      <td>2011</td>\n",
       "      <td>73</td>\n",
       "      <td>289.780822</td>\n",
       "    </tr>\n",
       "    <tr>\n",
       "      <th>4</th>\n",
       "      <td>22453</td>\n",
       "      <td>2012</td>\n",
       "      <td>74</td>\n",
       "      <td>303.418919</td>\n",
       "    </tr>\n",
       "  </tbody>\n",
       "</table>\n",
       "</div>"
      ],
      "text/plain": [
       "   total_runs  Season  Matches  Average runs per match\n",
       "0       17937    2008       58              309.258621\n",
       "1       16320    2009       57              286.315789\n",
       "2       18864    2010       60              314.400000\n",
       "3       21154    2011       73              289.780822\n",
       "4       22453    2012       74              303.418919"
      ]
     },
     "execution_count": 19,
     "metadata": {},
     "output_type": "execute_result"
    }
   ],
   "source": [
    "season_runs_permatch = pd.concat([season_runs.iloc[:,1], matches_per_season], axis = 1)\n",
    "season_runs_permatch['Average runs per match'] = season_runs_permatch['total_runs']/ season_runs_permatch['Matches']\n",
    "season_runs_permatch.rename(columns = {'total_runs': 'Total Runs'})\n",
    "season_runs_permatch.head()\n"
   ]
  },
  {
   "cell_type": "markdown",
   "id": "30f79afd",
   "metadata": {},
   "source": [
    "#### TOSS ANALYSIS: Teams with most number of toss wins"
   ]
  },
  {
   "cell_type": "code",
   "execution_count": 20,
   "id": "28f74407",
   "metadata": {},
   "outputs": [
    {
     "data": {
      "text/plain": [
       "Mumbai Indians                 106\n",
       "Kolkata Knight Riders           98\n",
       "Chennai Super Kings             97\n",
       "Royal Challengers Bangalore     87\n",
       "Rajasthan Royals                87\n",
       "Kings XI Punjab                 85\n",
       "Delhi Daredevils                80\n",
       "Sunrisers Hyderabad             57\n",
       "Deccan Chargers                 43\n",
       "Pune Warriors                   20\n",
       "Delhi Capitals                  20\n",
       "Gujarat Lions                   15\n",
       "Kochi Tuskers Kerala             8\n",
       "Rising Pune Supergiants          7\n",
       "Rising Pune Supergiant           6\n",
       "Name: toss_winner, dtype: int64"
      ]
     },
     "execution_count": 20,
     "metadata": {},
     "output_type": "execute_result"
    }
   ],
   "source": [
    "toss = general_data['toss_winner'].value_counts()\n",
    "toss"
   ]
  },
  {
   "cell_type": "code",
   "execution_count": 179,
   "id": "cbfacaf2",
   "metadata": {},
   "outputs": [
    {
     "data": {
      "image/png": "[encoded data removed]",
      "text/plain": [
       "<Figure size 720x432 with 1 Axes>"
      ]
     },
     "metadata": {},
     "output_type": "display_data"
    }
   ],
   "source": [
    "co = plt.axes()\n",
    "f = sns.barplot(y = toss.index, x = toss, palette = 'crest')\n",
    "f.bar_label(f.containers[0]);\n",
    "sns.set(style = 'darkgrid', rc={'figure.figsize':(10,6)})\n",
    "co.set_title('No. of tosses won by each team', fontsize=15, fontweight=\"bold\",)\n",
    "plt.xlabel('Number of tosses won by the team', fontweight=\"bold\")\n",
    "plt.ylabel('Teams', fontweight=\"bold\");"
   ]
  },
  {
   "cell_type": "markdown",
   "id": "3ecf560a",
   "metadata": {},
   "source": [
    "#### Toss decisions after winning the toss accross each season"
   ]
  },
  {
   "cell_type": "code",
   "execution_count": 240,
   "id": "d18e3adc",
   "metadata": {},
   "outputs": [
    {
     "data": {
      "text/plain": [
       "Season  toss_decision\n",
       "2008    field            32\n",
       "        bat              26\n",
       "2009    bat              35\n",
       "        field            22\n",
       "2010    bat              39\n",
       "        field            21\n",
       "2011    field            48\n",
       "        bat              25\n",
       "2012    bat              37\n",
       "        field            37\n",
       "2013    bat              45\n",
       "        field            31\n",
       "2014    field            41\n",
       "        bat              19\n",
       "2015    field            34\n",
       "        bat              25\n",
       "2016    field            49\n",
       "        bat              11\n",
       "2017    field            48\n",
       "        bat              11\n",
       "2018    field            50\n",
       "        bat              10\n",
       "2019    field            50\n",
       "        bat              10\n",
       "2020    field            33\n",
       "        bat              27\n",
       "Name: toss_decision, dtype: int64"
      ]
     },
     "execution_count": 240,
     "metadata": {},
     "output_type": "execute_result"
    }
   ],
   "source": [
    "td  = general_data.groupby(['Season'])['toss_decision'].value_counts()\n",
    "td"
   ]
  },
  {
   "cell_type": "code",
   "execution_count": 229,
   "id": "45995f77",
   "metadata": {},
   "outputs": [
    {
     "data": {
      "image/png": "[encoded data removed]",
      "text/plain": [
       "<Figure size 1080x360 with 1 Axes>"
      ]
     },
     "metadata": {},
     "output_type": "display_data"
    }
   ],
   "source": [
    "co = plt.axes()\n",
    "f = sns.countplot(data = general_data, x ='Season', hue='toss_decision',palette=\"magma\");\n",
    "sns.set(style = 'darkgrid', rc={'figure.figsize':(15,5)})\n",
    "f.bar_label(f.containers[0]);\n",
    "f.bar_label(f.containers[1]);\n",
    "plt.xlabel('Season', fontweight=\"bold\")\n",
    "plt.ylabel('Toss Decision', fontweight=\"bold\");"
   ]
  },
  {
   "cell_type": "code",
   "execution_count": 547,
   "id": "65e35a7e",
   "metadata": {},
   "outputs": [
    {
     "name": "stdout",
     "output_type": "stream",
     "text": [
      "Total number of games played in IPL:  816 \n",
      "Number of times a team has won after winning the toss:  418 \n",
      "Number of times a team has lost after winning the toss:  398\n"
     ]
    },
    {
     "data": {
      "image/png": "[encoded data removed]",
      "text/plain": [
       "<Figure size 360x360 with 1 Axes>"
      ]
     },
     "metadata": {},
     "output_type": "display_data"
    }
   ],
   "source": [
    "tw = general_data['toss_winner'] == general_data['winner']\n",
    "twn = general_data['toss_winner'] != general_data['winner']\n",
    "tw1 = tw.sum()\n",
    "twn1 = twn.sum()\n",
    "print('Total number of games played in IPL: ', tw1 + twn1,\n",
    "       '\\nNumber of times a team has won after winning the toss: ', tw1,\n",
    "      '\\nNumber of times a team has lost after winning the toss: ', twn1)\n",
    "\n",
    "co = plt.axes()\n",
    "co.set(facecolor= 'orange')\n",
    "f = sns.countplot(general_data['toss_decision'][general_data.toss_winner == general_data.winner])\n",
    "sns.set(palette = 'viridis', style = 'whitegrid', rc={'figure.figsize':(5,5)})\n",
    "\n",
    "f.bar_label(f.containers[0])\n",
    "plt.xlabel('Toss Decision')\n",
    "plt.ylabel('Match wins after winning the toss');\n",
    "plt.title('Toss Decisions vs Match Wins', fontweight=\"bold\");"
   ]
  },
  {
   "cell_type": "markdown",
   "id": "84dc3281",
   "metadata": {},
   "source": [
    " "
   ]
  },
  {
   "cell_type": "markdown",
   "id": "349d843e",
   "metadata": {},
   "source": [
    "## BATTING DATA ANALYSIS"
   ]
  },
  {
   "cell_type": "markdown",
   "id": "480f5a36",
   "metadata": {},
   "source": [
    " "
   ]
  },
  {
   "cell_type": "markdown",
   "id": "bc7870b7",
   "metadata": {},
   "source": [
    "#### Top 10 Run Scorers in IPL History"
   ]
  },
  {
   "cell_type": "code",
   "execution_count": 543,
   "id": "ce9a8a2e",
   "metadata": {},
   "outputs": [
    {
     "data": {
      "text/html": [
       "<div>\n",
       "<style scoped>\n",
       "    .dataframe tbody tr th:only-of-type {\n",
       "        vertical-align: middle;\n",
       "    }\n",
       "\n",
       "    .dataframe tbody tr th {\n",
       "        vertical-align: top;\n",
       "    }\n",
       "\n",
       "    .dataframe thead th {\n",
       "        text-align: right;\n",
       "    }\n",
       "</style>\n",
       "<table border=\"1\" class=\"dataframe\">\n",
       "  <thead>\n",
       "    <tr style=\"text-align: right;\">\n",
       "      <th></th>\n",
       "      <th>Batsman</th>\n",
       "      <th>Runs</th>\n",
       "    </tr>\n",
       "  </thead>\n",
       "  <tbody>\n",
       "    <tr>\n",
       "      <th>505</th>\n",
       "      <td>V Kohli</td>\n",
       "      <td>5878</td>\n",
       "    </tr>\n",
       "    <tr>\n",
       "      <th>438</th>\n",
       "      <td>SK Raina</td>\n",
       "      <td>5368</td>\n",
       "    </tr>\n",
       "    <tr>\n",
       "      <th>116</th>\n",
       "      <td>DA Warner</td>\n",
       "      <td>5254</td>\n",
       "    </tr>\n",
       "    <tr>\n",
       "      <th>379</th>\n",
       "      <td>RG Sharma</td>\n",
       "      <td>5230</td>\n",
       "    </tr>\n",
       "    <tr>\n",
       "      <th>407</th>\n",
       "      <td>S Dhawan</td>\n",
       "      <td>5197</td>\n",
       "    </tr>\n",
       "    <tr>\n",
       "      <th>24</th>\n",
       "      <td>AB de Villiers</td>\n",
       "      <td>4849</td>\n",
       "    </tr>\n",
       "    <tr>\n",
       "      <th>96</th>\n",
       "      <td>CH Gayle</td>\n",
       "      <td>4772</td>\n",
       "    </tr>\n",
       "    <tr>\n",
       "      <th>301</th>\n",
       "      <td>MS Dhoni</td>\n",
       "      <td>4632</td>\n",
       "    </tr>\n",
       "    <tr>\n",
       "      <th>398</th>\n",
       "      <td>RV Uthappa</td>\n",
       "      <td>4607</td>\n",
       "    </tr>\n",
       "    <tr>\n",
       "      <th>154</th>\n",
       "      <td>G Gambhir</td>\n",
       "      <td>4217</td>\n",
       "    </tr>\n",
       "  </tbody>\n",
       "</table>\n",
       "</div>"
      ],
      "text/plain": [
       "            Batsman  Runs\n",
       "505         V Kohli  5878\n",
       "438        SK Raina  5368\n",
       "116       DA Warner  5254\n",
       "379       RG Sharma  5230\n",
       "407        S Dhawan  5197\n",
       "24   AB de Villiers  4849\n",
       "96         CH Gayle  4772\n",
       "301        MS Dhoni  4632\n",
       "398      RV Uthappa  4607\n",
       "154       G Gambhir  4217"
      ]
     },
     "execution_count": 543,
     "metadata": {},
     "output_type": "execute_result"
    },
    {
     "data": {
      "image/png": "[encoded data removed]",
      "text/plain": [
       "<Figure size 1080x576 with 1 Axes>"
      ]
     },
     "metadata": {},
     "output_type": "display_data"
    }
   ],
   "source": [
    "leading_scorers = stats.groupby(['batsman']).batsman_runs.sum().reset_index()\n",
    "leading_scorers.columns = ['Batsman', 'Runs']\n",
    "top_ten_runs_scorers = leading_scorers.sort_values('Runs', ascending = False).head(10)\n",
    "\n",
    "co = plt.axes()\n",
    "co.set(facecolor= 'lightyellow')\n",
    "f = sns.barplot(x = top_ten_runs_scorers['Batsman'], y = top_ten_runs_scorers['Runs'], palette = 'cubehelix')\n",
    "sns.set(style = 'whitegrid', rc={'figure.figsize':(15,8)})\n",
    "f.bar_label(f.containers[0]);\n",
    "plt.xlabel('Batsman', fontweight = 'bold')\n",
    "plt.ylabel(\"Runs\", fontweight = 'bold')\n",
    "plt.title(\"Highest MOM award winners\",fontsize=20,fontweight=\"bold\")\n",
    "\n",
    "top_ten_runs_scorers\n"
   ]
  },
  {
   "cell_type": "markdown",
   "id": "1144078b",
   "metadata": {},
   "source": [
    "\n"
   ]
  },
  {
   "cell_type": "markdown",
   "id": "b599004e",
   "metadata": {},
   "source": [
    " "
   ]
  },
  {
   "cell_type": "markdown",
   "id": "953e04f9",
   "metadata": {},
   "source": [
    "#### Analysis of IPL's leading run scorer's dismissal pattern (Player : Virat Kohli)"
   ]
  },
  {
   "cell_type": "code",
   "execution_count": 475,
   "id": "cc2f666e",
   "metadata": {},
   "outputs": [
    {
     "data": {
      "text/plain": [
       "caught               105\n",
       "bowled                30\n",
       "run out               15\n",
       "lbw                    7\n",
       "stumped                3\n",
       "caught and bowled      3\n",
       "Name: dismissal_kind, dtype: int64"
      ]
     },
     "execution_count": 475,
     "metadata": {},
     "output_type": "execute_result"
    },
    {
     "data": {
      "image/png": "[encoded data removed]",
      "text/plain": [
       "<Figure size 1080x576 with 1 Axes>"
      ]
     },
     "metadata": {},
     "output_type": "display_data"
    }
   ],
   "source": [
    "player = stats['batsman'] == 'V Kohli'\n",
    "kohli_data = stats[player]\n",
    "kohli_dismissals= kohli_data['dismissal_kind'].value_counts()\n",
    "\n",
    "\n",
    "colors = sns.color_palette('pastel')[0:6]\n",
    "explode = [0.027,0.023,0.02,0.02,0.02,0.02]\n",
    "plt.pie(kohli_dismissals, labels = ['Caught','Bowled','Run Out','LBW', 'Stumped', 'Caught and Bowled'],\n",
    "        colors= colors ,autopct='%0.0f%%',explode = explode, shadow = 'True',\n",
    "        textprops = {'color': 'Black','fontsize':13}, wedgeprops = {'linewidth': 2})\n",
    "plt.title(\"Dismissal Kind\",fontweight=\"bold\",fontsize=15,);\n",
    "kohli_dismissals"
   ]
  },
  {
   "cell_type": "markdown",
   "id": "20fedbee",
   "metadata": {},
   "source": [
    "#### Most Man of the Match Award Winners:\n",
    "\n"
   ]
  },
  {
   "cell_type": "code",
   "execution_count": 540,
   "id": "1a4b9428",
   "metadata": {},
   "outputs": [
    {
     "data": {
      "image/png": "[encoded data removed]",
      "text/plain": [
       "<Figure size 720x432 with 1 Axes>"
      ]
     },
     "metadata": {},
     "output_type": "display_data"
    }
   ],
   "source": [
    "most_mom = general_data['Man of the Match'].value_counts().reset_index()\n",
    "most_mom.columns= ['Player','Man of the Match']\n",
    "ten_most_mom= most_mom.head(10)\n",
    "\n",
    "co = plt.axes()\n",
    "co.set(facecolor = \"black\")\n",
    "f = sns.barplot(y = ten_most_mom['Player'], x = ten_most_mom['Man of the Match'], palette = 'crest')\n",
    "f.bar_label(f.containers[0], color= 'white')\n",
    "sns.set(rc={'figure.figsize':(12,6)})\n",
    "plt.title(\"Highest MOM award winners\",fontsize=15,fontweight=\"bold\")\n",
    "f;"
   ]
  },
  {
   "cell_type": "code",
   "execution_count": null,
   "id": "a7b4e8f0",
   "metadata": {},
   "outputs": [],
   "source": []
  },
  {
   "cell_type": "code",
   "execution_count": null,
   "id": "87b32f7a",
   "metadata": {},
   "outputs": [],
   "source": []
  }
 ],
 "metadata": {
  "kernelspec": {
   "display_name": "Python 3 (ipykernel)",
   "language": "python",
   "name": "python3"
  },
  "language_info": {
   "codemirror_mode": {
    "name": "ipython",
    "version": 3
   },
   "file_extension": ".py",
   "mimetype": "text/x-python",
   "name": "python",
   "nbconvert_exporter": "python",
   "pygments_lexer": "ipython3",
   "version": "3.9.12"
  }
 },
 "nbformat": 4,
 "nbformat_minor": 5
}
